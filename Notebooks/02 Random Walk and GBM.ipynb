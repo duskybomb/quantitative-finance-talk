{
 "cells": [
  {
   "cell_type": "markdown",
   "metadata": {},
   "source": [
    "## Random Walk"
   ]
  },
  {
   "cell_type": "markdown",
   "metadata": {},
   "source": [
    "### Random Walk Model\n",
    "\n",
    "#### Example 1: Random Walk with Fixed Moves\n",
    "\n",
    " - Suppose price of a stock move up by 5 paisa with probability 0.5 or move down by 5 paisa with probability 0.5 every seconds.\n",
    " - If the price of the stock is Re 1/-; then what will be the price of the stock after 21600 seconds\n",
    " - The model $P_t=P_t−1±M_t$, where $M_t=5 a.s$"
   ]
  },
  {
   "cell_type": "code",
   "execution_count": 1,
   "metadata": {},
   "outputs": [],
   "source": [
    "options(repr.plot.width=6, repr.plot.height=4)"
   ]
  },
  {
   "cell_type": "code",
   "execution_count": 2,
   "metadata": {},
   "outputs": [],
   "source": [
    "set.seed(321)\n",
    "n<-21600\n",
    "P<-rep(NA,n)\n",
    "P[1]<-100 ## Current price 100 paisa or Re 1/-"
   ]
  },
  {
   "cell_type": "code",
   "execution_count": 3,
   "metadata": {},
   "outputs": [],
   "source": [
    "for(sec in 2:n){\n",
    "  toss<-sample(c(\"H\",\"T\"),1,replace = TRUE,prob = c(0.51,0.49))\n",
    "  if(toss==\"H\")P[sec]<-P[sec-1]+5\n",
    "  if(toss==\"T\")P[sec]<-P[sec-1]-5\n",
    "}"
   ]
  },
  {
   "cell_type": "code",
   "execution_count": 4,
   "metadata": {},
   "outputs": [
    {
     "data": {
      "image/png": "[encoded data removed]",
      "text/plain": [
       "plot without title"
      ]
     },
     "metadata": {},
     "output_type": "display_data"
    }
   ],
   "source": [
    "plot(ts(P))\n",
    "abline(h=0,lwd=2,col=\"red\")"
   ]
  },
  {
   "cell_type": "markdown",
   "metadata": {},
   "source": [
    "#### Example 2: Random Walk with Random Moves\n",
    "\n",
    " - Suppose price of a stock move up or down with probability 0.5 or\n",
    " - Size of the movement follow $Poisson(λ=5)$\n",
    " - If the price of the stock is Re 1/-; then what will be the price of the stock after 21600 seconds\n",
    " - The model:\n",
    "$$P_t=P_t−1+±M_t$$\n",
    "where $M_t∼Poisson(λ=5)$"
   ]
  },
  {
   "cell_type": "code",
   "execution_count": 5,
   "metadata": {},
   "outputs": [],
   "source": [
    "set.seed(321)\n",
    "n<-21600\n",
    "P<-M<-rep(NA,n)\n",
    "P[1]<-100 ## Current price 100 paisa or Re 1/-"
   ]
  },
  {
   "cell_type": "code",
   "execution_count": 6,
   "metadata": {},
   "outputs": [],
   "source": [
    "for(sec in 2:n){\n",
    "  toss<-sample(c(\"H\",\"T\"),1,replace = TRUE,prob = c(0.5,0.5))\n",
    "  M[sec]<-rpois(1,lambda = 5)\n",
    "  if(toss==\"H\")P[sec]<-P[sec-1]+ M[sec]\n",
    "  if(toss==\"T\")P[sec]<-P[sec-1]- M[sec]\n",
    "}"
   ]
  },
  {
   "cell_type": "code",
   "execution_count": 7,
   "metadata": {},
   "outputs": [
    {
     "data": {
      "image/png": "[encoded data removed]",
      "text/plain": [
       "plot without title"
      ]
     },
     "metadata": {},
     "output_type": "display_data"
    }
   ],
   "source": [
    "par(mfrow=c(1,2))\n",
    "plot(ts(P))\n",
    "abline(h=0,lwd=2,col=\"red\")\n",
    "plot(ts(M))\n",
    "abline(h=0,lwd=2,col=\"red\")"
   ]
  },
  {
   "cell_type": "markdown",
   "metadata": {},
   "source": [
    "#### Example 3: Random Walk with Random Return\n",
    "\n",
    " - Simple return of an asset is nothing but movement of the price with respect to previous price.\n",
    "\\begin{eqnarray}\n",
    "R_t&=&\\frac{P_t-P_{t-1}}{P_{t-1}}\\\\\n",
    "R_t.P_{t-1}&=&P_t-P_{t-1}\\\\\n",
    "P_t&=&P_{t-1}(1+R_t)\n",
    "\\end{eqnarray}\n",
    "\n",
    " - Suppose $R_t∼N(\\mu=0,\\sigma=0.01)$ on every seconds.\n",
    " - If the price of the stock is Re 1/-; then what will be the price of the stock after 21600 seconds"
   ]
  },
  {
   "cell_type": "code",
   "execution_count": 8,
   "metadata": {},
   "outputs": [],
   "source": [
    "set.seed(321)\n",
    "n<-21600\n",
    "P<-rep(NA,n)\n",
    "P[1]<-100 ## Current price 100 paisa or Re 1/-"
   ]
  },
  {
   "cell_type": "code",
   "execution_count": 9,
   "metadata": {},
   "outputs": [],
   "source": [
    "rt<-rnorm(n,mean=0.0,sd=0.01)\n",
    "for(sec in 2:n) P[sec]<-P[sec-1]*(1+rt[sec])"
   ]
  },
  {
   "cell_type": "code",
   "execution_count": 10,
   "metadata": {},
   "outputs": [
    {
     "data": {
      "image/png": "[encoded data removed]",
      "text/plain": [
       "plot without title"
      ]
     },
     "metadata": {},
     "output_type": "display_data"
    }
   ],
   "source": [
    "par(mfrow=c(1,2))\n",
    "plot(ts(P))\n",
    "abline(h=0,lwd=2,col=\"red\")\n",
    "plot(ts(rt))\n",
    "abline(h=0,lwd=2,col=\"red\")"
   ]
  },
  {
   "cell_type": "markdown",
   "metadata": {},
   "source": [
    "#### Example 4: Random Walk with Random log-Return\n",
    "\n",
    " - The log-return of an asset indicates continuous compounding effect of the proce movement;\n",
    "\\begin{eqnarray*}\n",
    "r_t &=& \\log(P_t) - \\log(P_{t-1})\\\\\n",
    "&=& \\log\\Big(\\frac{P_t}{P_{t-1}}\\Big)\\\\\n",
    "P_t &=& P_{t-1}e^{r_t}\n",
    "\\end{eqnarray*}\n",
    " - Suppose $r_t∼N(\\mu=0,\\sigma=0.01)$ on every seconds.\n",
    " - If the price of the stock is Re 1/-; then what will be the price of the stock after 21600 seconds"
   ]
  },
  {
   "cell_type": "code",
   "execution_count": 11,
   "metadata": {},
   "outputs": [],
   "source": [
    "set.seed(321)\n",
    "n<-21600\n",
    "P<-rep(NA,n)\n",
    "P[1]<-100 ## Current price 100 paisa or Re 1/-"
   ]
  },
  {
   "cell_type": "code",
   "execution_count": 12,
   "metadata": {},
   "outputs": [],
   "source": [
    "rt<-rnorm(n,mean=0,sd=0.01)\n",
    "for(sec in 2:n) P[sec]<-P[sec-1]*exp(rt[sec])"
   ]
  },
  {
   "cell_type": "code",
   "execution_count": 13,
   "metadata": {},
   "outputs": [
    {
     "data": {
      "image/png": "[encoded data removed]",
      "text/plain": [
       "plot without title"
      ]
     },
     "metadata": {},
     "output_type": "display_data"
    }
   ],
   "source": [
    "par(mfrow=c(1,2))\n",
    "plot(ts(P))\n",
    "abline(h=0,lwd=2,col=\"red\")\n",
    "plot(ts(rt))\n",
    "abline(h=0,lwd=2,col=\"red\")"
   ]
  },
  {
   "cell_type": "markdown",
   "metadata": {},
   "source": [
    "### Random Walk Model\n",
    "\n",
    "\n",
    "- Suppose $r1,r2,\\cdots$ be i.i.d with mean $\\mu$ and standard deviation $\\sigma$ .\n",
    "- Let P0 be an arbitrary starting point and $P_t = P_0 + r_1 + r_2+ \\cdots + r_t$,  $t\\ge1$.\n",
    "\n",
    "- The process $P_0, P_1, P_2, \\cdots$ is known as random walk and $r_1,r_2,\\cdots$ are corresponding steps of that random walk.\n",
    "\n",
    "- The conditional expectation and variance of $P_t$ given $P_0$ is $E(P_t|P_0) = P_0 + \\mu t$ and $Var(P_t|P_0) = \\sigma^2 t$ .\n",
    "\n",
    "- The parameter $\\mu$ is the drift and set an overall trend of the random walk.\n",
    "\n",
    "- The parameter $\\sigma$  is the volatility and controls how much it fluctuates around $P_0+ \\mu t$.\n",
    "\n",
    "- Since the standard deviation of $P_t$ given $P_0$ is $\\sigma \\sqrt{t}$ , as $t$ increases the range of variability in the process increases.\n",
    "\n",
    "- This means at the $t=0$ you know very little about where the random walk will be in the remote future compared to its current spot value"
   ]
  },
  {
   "cell_type": "markdown",
   "metadata": {},
   "source": [
    "## Stationary Process"
   ]
  },
  {
   "cell_type": "markdown",
   "metadata": {},
   "source": [
    "- In probability, a stochastic process is known as stationary if the joint probability distribution is independent of time.\n",
    "- Parameters such as mean, volatility, correlation etc., do not change over time.\n",
    "- A continuous time random process $P_t$ is stationary, if it has the following restrictions on its mean function,\n",
    "$E[P_t] = \\mu(t) = \\mu(t+h) = \\mu$  $\\forall t,h \\in \\mathbb{R}$,\n",
    "and autocovariance function\n",
    "$Cov_P(t_1,t_2)=E[{P(t_1)−μ(t_1)}{P(t_2)−μ(t_2)}]=Cov_P(t_1−t_2)$.\n",
    "- The mean function $E(P_t)$ must be constant over time.\n",
    "- The covariance function depends only on the difference between $t_1$ and $t_2$.\n",
    "\n",
    "\n",
    "<img src=\"image.PNG\" alt=\"Alt text that describes the graphic\" title=\"Title text\" />\n",
    "\n",
    "Differencing can help stabilize the mean of the time series by removing changes in the level of a time series, and so eliminating (or reducing) trend and seasonality.\n",
    "\n",
    "#### difference(t) = observation(t) - observation(t-1)"
   ]
  },
  {
   "cell_type": "markdown",
   "metadata": {},
   "source": [
    "### Simulate from stationary process"
   ]
  },
  {
   "cell_type": "code",
   "execution_count": 14,
   "metadata": {},
   "outputs": [
    {
     "data": {
      "image/png": "[encoded data removed]",
      "text/plain": [
       "plot without title"
      ]
     },
     "metadata": {},
     "output_type": "display_data"
    }
   ],
   "source": [
    "mu<-1\n",
    "s<-2\n",
    "n<-100\n",
    "r<-rnorm(n,mu,s)\n",
    "plot(ts(r))"
   ]
  },
  {
   "cell_type": "code",
   "execution_count": 15,
   "metadata": {},
   "outputs": [
    {
     "data": {
      "image/png": "[encoded data removed]",
      "text/plain": [
       "plot without title"
      ]
     },
     "metadata": {},
     "output_type": "display_data"
    }
   ],
   "source": [
    "P<-r\n",
    "P[1]<-1\n",
    "P<-cumsum(P)\n",
    "plot(ts(P))"
   ]
  },
  {
   "cell_type": "markdown",
   "metadata": {},
   "source": [
    "### Dickey-Fuller test for Stationarity in a Time Series\n",
    " - The Dickey-Fuller test (1979) compares the null hypothesis\n",
    "$$H_0:p_t=p_{t−1}+r_t$$\n",
    "i.e., that the series is a random walk without drift, where $r_t$ is a white noise with mean 0 and variance $\\sigma^2$\n",
    "\n",
    " - The alternative hypothesis is\n",
    "$$H_1:p_t=\\mu+\\phi p_{t−1}+r_t$$\n",
    "where $\\mu$ and $\\phi$ are constant with $|\\phi|<1$\n",
    " - According to $H_1$, the process is stationary AR(1) with mean $\\frac{\\mu}{ 1 − \\phi}$."
   ]
  },
  {
   "cell_type": "code",
   "execution_count": 16,
   "metadata": {},
   "outputs": [
    {
     "name": "stderr",
     "output_type": "stream",
     "text": [
      "Registered S3 method overwritten by 'xts':\n",
      "  method     from\n",
      "  as.zoo.xts zoo \n",
      "Registered S3 method overwritten by 'quantmod':\n",
      "  method            from\n",
      "  as.zoo.data.frame zoo \n"
     ]
    },
    {
     "data": {
      "text/html": [
       "<table>\n",
       "<thead><tr><th scope=col>DAX</th><th scope=col>SMI</th><th scope=col>CAC</th><th scope=col>FTSE</th></tr></thead>\n",
       "<tbody>\n",
       "\t<tr><td>1628.75</td><td>1678.1 </td><td>1772.8 </td><td>2443.6 </td></tr>\n",
       "\t<tr><td>1613.63</td><td>1688.5 </td><td>1750.5 </td><td>2460.2 </td></tr>\n",
       "\t<tr><td>1606.51</td><td>1678.6 </td><td>1718.0 </td><td>2448.2 </td></tr>\n",
       "\t<tr><td>1621.04</td><td>1684.1 </td><td>1708.1 </td><td>2470.4 </td></tr>\n",
       "\t<tr><td>1618.16</td><td>1686.6 </td><td>1723.1 </td><td>2484.7 </td></tr>\n",
       "\t<tr><td>1610.61</td><td>1671.6 </td><td>1714.3 </td><td>2466.8 </td></tr>\n",
       "</tbody>\n",
       "</table>\n"
      ],
      "text/latex": [
       "\\begin{tabular}{llll}\n",
       " DAX & SMI & CAC & FTSE\\\\\n",
       "\\hline\n",
       "\t 1628.75 & 1678.1  & 1772.8  & 2443.6 \\\\\n",
       "\t 1613.63 & 1688.5  & 1750.5  & 2460.2 \\\\\n",
       "\t 1606.51 & 1678.6  & 1718.0  & 2448.2 \\\\\n",
       "\t 1621.04 & 1684.1  & 1708.1  & 2470.4 \\\\\n",
       "\t 1618.16 & 1686.6  & 1723.1  & 2484.7 \\\\\n",
       "\t 1610.61 & 1671.6  & 1714.3  & 2466.8 \\\\\n",
       "\\end{tabular}\n"
      ],
      "text/markdown": [
       "\n",
       "| DAX | SMI | CAC | FTSE |\n",
       "|---|---|---|---|\n",
       "| 1628.75 | 1678.1  | 1772.8  | 2443.6  |\n",
       "| 1613.63 | 1688.5  | 1750.5  | 2460.2  |\n",
       "| 1606.51 | 1678.6  | 1718.0  | 2448.2  |\n",
       "| 1621.04 | 1684.1  | 1708.1  | 2470.4  |\n",
       "| 1618.16 | 1686.6  | 1723.1  | 2484.7  |\n",
       "| 1610.61 | 1671.6  | 1714.3  | 2466.8  |\n",
       "\n"
      ],
      "text/plain": [
       "     DAX     SMI    CAC    FTSE  \n",
       "[1,] 1628.75 1678.1 1772.8 2443.6\n",
       "[2,] 1613.63 1688.5 1750.5 2460.2\n",
       "[3,] 1606.51 1678.6 1718.0 2448.2\n",
       "[4,] 1621.04 1684.1 1708.1 2470.4\n",
       "[5,] 1618.16 1686.6 1723.1 2484.7\n",
       "[6,] 1610.61 1671.6 1714.3 2466.8"
      ]
     },
     "metadata": {},
     "output_type": "display_data"
    }
   ],
   "source": [
    "library(tseries)\n",
    "head(EuStockMarkets)"
   ]
  },
  {
   "cell_type": "code",
   "execution_count": 17,
   "metadata": {},
   "outputs": [
    {
     "data": {
      "image/png": "[encoded data removed]",
      "text/plain": [
       "plot without title"
      ]
     },
     "metadata": {},
     "output_type": "display_data"
    }
   ],
   "source": [
    "FTSE<-EuStockMarkets[,\"FTSE\"]\n",
    "## Plot FTSE\n",
    "n<-length(FTSE)\n",
    "plot(ts(FTSE))\n",
    "grid(col = \"red\")"
   ]
  },
  {
   "cell_type": "markdown",
   "metadata": {},
   "source": [
    "#### Compute the log-return of the FTSE"
   ]
  },
  {
   "cell_type": "code",
   "execution_count": 18,
   "metadata": {},
   "outputs": [],
   "source": [
    "log_return<-diff(log(FTSE))*100\n",
    "n<-length(log_return)"
   ]
  },
  {
   "cell_type": "markdown",
   "metadata": {},
   "source": [
    "#### The time-series plot of the log-return \n"
   ]
  },
  {
   "cell_type": "code",
   "execution_count": 19,
   "metadata": {},
   "outputs": [
    {
     "data": {
      "image/png": "[encoded data removed]",
      "text/plain": [
       "plot without title"
      ]
     },
     "metadata": {},
     "output_type": "display_data"
    }
   ],
   "source": [
    "plot(ts(log_return))\n",
    "grid(col=\"red\")"
   ]
  },
  {
   "cell_type": "markdown",
   "metadata": {},
   "source": [
    "#### Dickey-Fuller test for unit-root"
   ]
  },
  {
   "cell_type": "code",
   "execution_count": 20,
   "metadata": {},
   "outputs": [
    {
     "data": {
      "text/plain": [
       "\n",
       "\tAugmented Dickey-Fuller Test\n",
       "\n",
       "data:  log(FTSE)\n",
       "Dickey-Fuller = -2.4976, Lag order = 12, p-value = 0.3677\n",
       "alternative hypothesis: stationary\n"
      ]
     },
     "metadata": {},
     "output_type": "display_data"
    }
   ],
   "source": [
    "## Step 1: Check if log-Price is non-stationary\n",
    "adf.test(log(FTSE))"
   ]
  },
  {
   "cell_type": "code",
   "execution_count": 21,
   "metadata": {},
   "outputs": [
    {
     "name": "stderr",
     "output_type": "stream",
     "text": [
      "Warning message in adf.test(log_return):\n",
      "\"p-value smaller than printed p-value\""
     ]
    },
    {
     "data": {
      "text/plain": [
       "\n",
       "\tAugmented Dickey-Fuller Test\n",
       "\n",
       "data:  log_return\n",
       "Dickey-Fuller = -11.162, Lag order = 12, p-value = 0.01\n",
       "alternative hypothesis: stationary\n"
      ]
     },
     "metadata": {},
     "output_type": "display_data"
    }
   ],
   "source": [
    "## Step 2: Check if log-return is non-stationary\n",
    "adf.test(log_return)"
   ]
  },
  {
   "cell_type": "markdown",
   "metadata": {},
   "source": [
    "# Geometric Brownian Motion\n",
    "\n",
    "For the risk-free assets the price grows at risk-free rate:\n",
    "$P_T = P_0 e ^{r T}$.\n",
    "\n",
    "Lets assume that the log-returns follow Geometric Brownian Motion. \n",
    "\n",
    "$P_i(i=0,1,\\cdots,n)$  : spot prices observed over a consecutive time period of $ \\Delta t$ each.\n",
    "\n",
    "Then the log-return is $r_i  = \\log(P_{i+1})−\\log(P_i)$.\n",
    "\n",
    "#### According to Geometric Brownian Motion, $r_i=(\\mu − \\sigma^2/2)\\Delta t + \\sigma W_\\Delta t$, where $W_\\Delta t \\sim N(0, \\Delta t)$.\n",
    "\n",
    "Therefore,\n",
    "$r_i \\sim N((\\mu − \\sigma^2/2) \\Delta t, \\sigma \\sqrt{\\Delta t})$.\n",
    "\n",
    "$ \\bar{r} = \\sum_{i=1}^{n} r_i$ is the sample mean and variance $s^2= \\frac{1}{n-1} \\sum_{i=1}^n(r_i−\\bar{r})^2$ of returns.\n",
    "\n",
    "This results in \n",
    "### $$\\hat{\\mu} \\approx \\frac{\\bar{r} + \\frac{s^2}{2}}{\\Delta t} , \\hat{\\sigma} \\approx \\frac{s}{\\Delta t}$$."
   ]
  },
  {
   "cell_type": "markdown",
   "metadata": {},
   "source": [
    "## Simulation of Geometric Brownian Motion"
   ]
  },
  {
   "cell_type": "code",
   "execution_count": 22,
   "metadata": {},
   "outputs": [],
   "source": [
    "FTSE<-EuStockMarkets[,\"FTSE\"]\n",
    "Asset<-FTSE"
   ]
  },
  {
   "cell_type": "code",
   "execution_count": 23,
   "metadata": {},
   "outputs": [],
   "source": [
    "## Simulation size\n",
    "sim.size<-500\n",
    "n<-length(Asset)"
   ]
  },
  {
   "cell_type": "code",
   "execution_count": 24,
   "metadata": {},
   "outputs": [],
   "source": [
    "## log-return\n",
    "rt<-diff(log(Asset))"
   ]
  },
  {
   "cell_type": "code",
   "execution_count": 25,
   "metadata": {},
   "outputs": [],
   "source": [
    "rbar<-mean(rt)\n",
    "s<-sd(rt)\n",
    "delta_t<-1\n",
    "mu_hat<-rbar+s^2/2"
   ]
  },
  {
   "cell_type": "code",
   "execution_count": 26,
   "metadata": {},
   "outputs": [],
   "source": [
    "set.seed(321)"
   ]
  },
  {
   "cell_type": "code",
   "execution_count": 27,
   "metadata": {},
   "outputs": [],
   "source": [
    "## Simulate log-return from Normal distribution\n",
    "rt.sim<-rnorm(sim.size,mean=(mu_hat-s^2/2),sd=s)"
   ]
  },
  {
   "cell_type": "code",
   "execution_count": 28,
   "metadata": {},
   "outputs": [],
   "source": [
    "Asset.sim<-rep(NA,sim.size)\n",
    "Asset.sim[1]<-Asset[n]*exp(rt.sim[1])\n",
    "for(i in 2:sim.size)Asset.sim[i]<-Asset.sim[i-1]*exp(rt.sim[i])"
   ]
  },
  {
   "cell_type": "code",
   "execution_count": 29,
   "metadata": {},
   "outputs": [],
   "source": [
    "yl<-min(Asset)*0.85\n",
    "yu<-max(Asset)*1.9"
   ]
  },
  {
   "cell_type": "code",
   "execution_count": 31,
   "metadata": {},
   "outputs": [
    {
     "data": {
      "image/png": "[encoded data removed]",
      "text/plain": [
       "plot without title"
      ]
     },
     "metadata": {},
     "output_type": "display_data"
    }
   ],
   "source": [
    "plot(ts(Asset),xlim=c(0,(n+sim.size)),ylim=c(yl,yu))\n",
    "lines((n+1):(n+sim.size),Asset.sim,col=\"red\",lwd=2)\n",
    "grid(col=\"black\",lwd=2)"
   ]
  }
 ],
 "metadata": {
  "kernelspec": {
   "display_name": "R",
   "language": "R",
   "name": "ir"
  },
  "language_info": {
   "codemirror_mode": "r",
   "file_extension": ".r",
   "mimetype": "text/x-r-source",
   "name": "R",
   "pygments_lexer": "r",
   "version": "3.6.0"
  }
 },
 "nbformat": 4,
 "nbformat_minor": 2
}
