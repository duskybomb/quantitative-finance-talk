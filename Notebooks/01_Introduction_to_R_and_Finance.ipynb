{
 "cells": [
  {
   "cell_type": "markdown",
   "metadata": {},
   "source": [
    "# Quantitative Finance with R\n",
    "\n",
    "What are we going to learn today:\n",
    " - Introduction to R and Finance\n",
    " - Random Walks\n",
    " - Geometric Brownian Motion\n",
    " - Efficient Frontier\n",
    " - Portfolio Optimization\n",
    " - CAPM\n",
    " - Intraday Data"
   ]
  },
  {
   "cell_type": "markdown",
   "metadata": {},
   "source": [
    "## Introduction to R and Finance\n",
    "### Arithmetic expression and Standard Calculation"
   ]
  },
  {
   "cell_type": "code",
   "execution_count": 1,
   "metadata": {},
   "outputs": [
    {
     "data": {
      "text/html": [
       "4"
      ],
      "text/latex": [
       "4"
      ],
      "text/markdown": [
       "4"
      ],
      "text/plain": [
       "[1] 4"
      ]
     },
     "metadata": {},
     "output_type": "display_data"
    }
   ],
   "source": [
    "2 + 2"
   ]
  },
  {
   "cell_type": "code",
   "execution_count": 2,
   "metadata": {},
   "outputs": [
    {
     "data": {
      "text/html": [
       "0.135335283236613"
      ],
      "text/latex": [
       "0.135335283236613"
      ],
      "text/markdown": [
       "0.135335283236613"
      ],
      "text/plain": [
       "[1] 0.1353353"
      ]
     },
     "metadata": {},
     "output_type": "display_data"
    }
   ],
   "source": [
    "exp(-2)"
   ]
  },
  {
   "cell_type": "code",
   "execution_count": 3,
   "metadata": {},
   "outputs": [
    {
     "data": {
      "text/html": [
       "3.14159265358979"
      ],
      "text/latex": [
       "3.14159265358979"
      ],
      "text/markdown": [
       "3.14159265358979"
      ],
      "text/plain": [
       "[1] 3.141593"
      ]
     },
     "metadata": {},
     "output_type": "display_data"
    }
   ],
   "source": [
    "pi"
   ]
  },
  {
   "cell_type": "code",
   "execution_count": 4,
   "metadata": {},
   "outputs": [
    {
     "data": {
      "text/html": [
       "0.5"
      ],
      "text/latex": [
       "0.5"
      ],
      "text/markdown": [
       "0.5"
      ],
      "text/plain": [
       "[1] 0.5"
      ]
     },
     "metadata": {},
     "output_type": "display_data"
    }
   ],
   "source": [
    "cos(pi/3)"
   ]
  },
  {
   "cell_type": "markdown",
   "metadata": {},
   "source": [
    "### Assignments"
   ]
  },
  {
   "cell_type": "code",
   "execution_count": 5,
   "metadata": {},
   "outputs": [
    {
     "data": {
      "text/html": [
       "5"
      ],
      "text/latex": [
       "5"
      ],
      "text/markdown": [
       "5"
      ],
      "text/plain": [
       "[1] 5"
      ]
     },
     "metadata": {},
     "output_type": "display_data"
    }
   ],
   "source": [
    "x<-2\n",
    "y<-3\n",
    "x + y"
   ]
  },
  {
   "cell_type": "markdown",
   "metadata": {},
   "source": [
    "### Vectors in R\n"
   ]
  },
  {
   "cell_type": "code",
   "execution_count": 6,
   "metadata": {},
   "outputs": [
    {
     "data": {
      "text/html": [
       "<ol class=list-inline>\n",
       "\t<li>8114.3</li>\n",
       "\t<li>7965.5</li>\n",
       "\t<li>8033.3</li>\n",
       "\t<li>8002.3</li>\n",
       "\t<li>7929.1</li>\n",
       "</ol>\n"
      ],
      "text/latex": [
       "\\begin{enumerate*}\n",
       "\\item 8114.3\n",
       "\\item 7965.5\n",
       "\\item 8033.3\n",
       "\\item 8002.3\n",
       "\\item 7929.1\n",
       "\\end{enumerate*}\n"
      ],
      "text/markdown": [
       "1. 8114.3\n",
       "2. 7965.5\n",
       "3. 8033.3\n",
       "4. 8002.3\n",
       "5. 7929.1\n",
       "\n",
       "\n"
      ],
      "text/plain": [
       "[1] 8114.3 7965.5 8033.3 8002.3 7929.1"
      ]
     },
     "metadata": {},
     "output_type": "display_data"
    }
   ],
   "source": [
    "Nifty.50 <- c(8114.30, 7965.50, 8033.30, 8002.30, 7929.10 )\n",
    "Nifty.50"
   ]
  },
  {
   "cell_type": "markdown",
   "metadata": {},
   "source": [
    "### Random Sample and graph"
   ]
  },
  {
   "cell_type": "code",
   "execution_count": 7,
   "metadata": {},
   "outputs": [],
   "source": [
    "options(repr.plot.width=6, repr.plot.height=4)\n",
    "r<-rnorm(n=1000,mean=0,sd=1)"
   ]
  },
  {
   "cell_type": "code",
   "execution_count": 8,
   "metadata": {},
   "outputs": [
    {
     "data": {
      "image/png": "[encoded data removed]",
      "text/plain": [
       "Plot with title “Histogram of r”"
      ]
     },
     "metadata": {},
     "output_type": "display_data"
    }
   ],
   "source": [
    "hist(r,col=\"red\")"
   ]
  },
  {
   "cell_type": "markdown",
   "metadata": {},
   "source": [
    "### Install Necessary Packages"
   ]
  },
  {
   "cell_type": "code",
   "execution_count": 9,
   "metadata": {},
   "outputs": [
    {
     "name": "stderr",
     "output_type": "stream",
     "text": [
      "Updating HTML index of packages in '.Library'\n",
      "Making 'packages.html' ... done\n"
     ]
    }
   ],
   "source": [
    "install.packages(c(\"tseries\", \"xts\", \"zoo\"))"
   ]
  },
  {
   "cell_type": "markdown",
   "metadata": {},
   "source": [
    "### Dowload stock price data from Yahoo"
   ]
  },
  {
   "cell_type": "code",
   "execution_count": 10,
   "metadata": {},
   "outputs": [
    {
     "name": "stderr",
     "output_type": "stream",
     "text": [
      "Registered S3 method overwritten by 'xts':\n",
      "  method     from\n",
      "  as.zoo.xts zoo \n",
      "Registered S3 method overwritten by 'quantmod':\n",
      "  method            from\n",
      "  as.zoo.data.frame zoo \n",
      "‘getSymbols’ currently uses auto.assign=TRUE by default, but will\n",
      "use auto.assign=FALSE in 0.5-0. You will still be able to use\n",
      "‘loadSymbols’ to automatically load data. getOption(\"getSymbols.env\")\n",
      "and getOption(\"getSymbols.auto.assign\") will still be checked for\n",
      "alternate defaults.\n",
      "\n",
      "This message is shown once per session and may be disabled by setting \n",
      "options(\"getSymbols.warning4.0\"=FALSE). See ?getSymbols for details.\n",
      "\n"
     ]
    }
   ],
   "source": [
    "library(tseries)\n",
    "Nifty.50<-get.hist.quote(instrument = \"^NSEI\"\n",
    "                         ,start=\"2016-11-21\"\n",
    "                         ,end=\"2016-11-25\"\n",
    "                         ,quote=\"AdjClose\"\n",
    "                         ,provider = \"yahoo\")"
   ]
  },
  {
   "cell_type": "code",
   "execution_count": 11,
   "metadata": {},
   "outputs": [
    {
     "data": {
      "text/plain": [
       "           Adjusted\n",
       "2016-11-21   7929.1\n",
       "2016-11-22   8002.3\n",
       "2016-11-23   8033.3\n",
       "2016-11-24   7965.5\n",
       "2016-11-25   8114.3"
      ]
     },
     "metadata": {},
     "output_type": "display_data"
    }
   ],
   "source": [
    "Nifty.50"
   ]
  },
  {
   "cell_type": "markdown",
   "metadata": {},
   "source": [
    "### Compute Log-return "
   ]
  },
  {
   "cell_type": "markdown",
   "metadata": {},
   "source": [
    "log-return is the consecutive differences of prices in log-scale, i.e.,\n",
    "\\begin{eqnarray*}\n",
    "r_t &=& \\log(P_t) - \\log(P_{t-1})\\\\\n",
    "&=& \\log\\Big(\\frac{P_t}{P_{t-1}}\\Big)\n",
    "\\end{eqnarray*}\n",
    "where $P_t$ is the price of a stock (or value of an index) at time point $t$."
   ]
  },
  {
   "cell_type": "code",
   "execution_count": 12,
   "metadata": {},
   "outputs": [
    {
     "data": {
      "text/plain": [
       "               Adjusted\n",
       "2016-11-22  0.009189427\n",
       "2016-11-23  0.003866402\n",
       "2016-11-24 -0.008475662\n",
       "2016-11-25  0.018508197"
      ]
     },
     "metadata": {},
     "output_type": "display_data"
    }
   ],
   "source": [
    "ln_rt<-diff(log(Nifty.50))\n",
    "ln_rt  # log-return"
   ]
  },
  {
   "cell_type": "markdown",
   "metadata": {},
   "source": [
    "### Compute Simple Return"
   ]
  },
  {
   "cell_type": "markdown",
   "metadata": {},
   "source": [
    "Simple return can be calculated as \n",
    "\\begin{eqnarray*}\n",
    "R_t &=&\\frac{P_t-P_{t-1}}{P_{t-1}}\\\\\n",
    " &=&\\frac{P_t}{P_{t-1}}-1\\\\\n",
    " &=& e^{r_t}-1,\n",
    "\\end{eqnarray*}\n",
    "where $r_t$ is the log-return"
   ]
  },
  {
   "cell_type": "code",
   "execution_count": 13,
   "metadata": {},
   "outputs": [
    {
     "data": {
      "text/plain": [
       "               Adjusted\n",
       "2016-11-22  0.009231780\n",
       "2016-11-23  0.003873886\n",
       "2016-11-24 -0.008439845\n",
       "2016-11-25  0.018680535"
      ]
     },
     "metadata": {},
     "output_type": "display_data"
    }
   ],
   "source": [
    "Rt<-exp(ln_rt)-1\n",
    "Rt  # Simple return"
   ]
  },
  {
   "cell_type": "code",
   "execution_count": 14,
   "metadata": {},
   "outputs": [
    {
     "data": {
      "text/plain": [
       "             Adjusted\n",
       "2016-11-22  0.9231780\n",
       "2016-11-23  0.3873886\n",
       "2016-11-24 -0.8439845\n",
       "2016-11-25  1.8680535"
      ]
     },
     "metadata": {},
     "output_type": "display_data"
    }
   ],
   "source": [
    "Rt*100  # simple return in %"
   ]
  },
  {
   "cell_type": "code",
   "execution_count": 15,
   "metadata": {},
   "outputs": [
    {
     "data": {
      "text/plain": [
       "             Adjusted\n",
       "2016-11-22  0.9189427\n",
       "2016-11-23  0.3866402\n",
       "2016-11-24 -0.8475662\n",
       "2016-11-25  1.8508197"
      ]
     },
     "metadata": {},
     "output_type": "display_data"
    }
   ],
   "source": [
    "ln_rt*100"
   ]
  },
  {
   "cell_type": "code",
   "execution_count": 16,
   "metadata": {},
   "outputs": [
    {
     "data": {
      "text/html": [
       "0.00577209117520461"
      ],
      "text/latex": [
       "0.00577209117520461"
      ],
      "text/markdown": [
       "0.00577209117520461"
      ],
      "text/plain": [
       "[1] 0.005772091"
      ]
     },
     "metadata": {},
     "output_type": "display_data"
    }
   ],
   "source": [
    "mean(ln_rt)"
   ]
  },
  {
   "cell_type": "markdown",
   "metadata": {},
   "source": [
    "### Volatility (Standard Deviation)"
   ]
  },
  {
   "cell_type": "code",
   "execution_count": 17,
   "metadata": {},
   "outputs": [
    {
     "data": {
      "text/html": [
       "1.12622778698241"
      ],
      "text/latex": [
       "1.12622778698241"
      ],
      "text/markdown": [
       "1.12622778698241"
      ],
      "text/plain": [
       "[1] 1.126228"
      ]
     },
     "metadata": {},
     "output_type": "display_data"
    }
   ],
   "source": [
    "sd(ln_rt)*100"
   ]
  },
  {
   "cell_type": "markdown",
   "metadata": {},
   "source": [
    " - Volatility tells us, on average, how much value of an asset can go down or go up.\n",
    " - Since `sd(ln_rt)*100` is calculated using daily log-return; so calculated volatility is daily volatility in percentage.\n",
    " - So value of Nifty 50 can go down (or up) by `1.12623%` on a given day.\n"
   ]
  },
  {
   "cell_type": "markdown",
   "metadata": {},
   "source": [
    "$K$-day volatility"
   ]
  },
  {
   "cell_type": "markdown",
   "metadata": {},
   "source": [
    "\\begin{eqnarray*}\n",
    "\\mathbb{E}(r_{t}(k))&=& k\\mu,\\\\\n",
    "\\mathbb{V}ar(r_{t}(k))&=& k\\sigma^2\n",
    "\\end{eqnarray*}"
   ]
  },
  {
   "cell_type": "markdown",
   "metadata": {},
   "source": [
    "Therefore k-period volatility is $\\sqrt{k}\\sigma$"
   ]
  },
  {
   "cell_type": "markdown",
   "metadata": {},
   "source": [
    "### Monthly volatility of Nifty 50"
   ]
  },
  {
   "cell_type": "code",
   "execution_count": 18,
   "metadata": {},
   "outputs": [
    {
     "data": {
      "text/html": [
       "5.28247656121335"
      ],
      "text/latex": [
       "5.28247656121335"
      ],
      "text/markdown": [
       "5.28247656121335"
      ],
      "text/plain": [
       "[1] 5.282477"
      ]
     },
     "metadata": {},
     "output_type": "display_data"
    }
   ],
   "source": [
    "sqrt(22)*sd(ln_rt)*100"
   ]
  },
  {
   "cell_type": "markdown",
   "metadata": {},
   "source": [
    "### Yearly volatility of Nifty 50"
   ]
  },
  {
   "cell_type": "code",
   "execution_count": 19,
   "metadata": {},
   "outputs": [
    {
     "data": {
      "text/html": [
       "17.8783118637965"
      ],
      "text/latex": [
       "17.8783118637965"
      ],
      "text/markdown": [
       "17.8783118637965"
      ],
      "text/plain": [
       "[1] 17.87831"
      ]
     },
     "metadata": {},
     "output_type": "display_data"
    }
   ],
   "source": [
    "sqrt(252)*sd(ln_rt)*100"
   ]
  },
  {
   "cell_type": "markdown",
   "metadata": {},
   "source": [
    "####  Why are we using $k$=22 and $k$=252 for monthly and yearly volatility of Nifty 50?"
   ]
  }
 ],
 "metadata": {
  "kernelspec": {
   "display_name": "R",
   "language": "R",
   "name": "ir"
  },
  "language_info": {
   "codemirror_mode": "r",
   "file_extension": ".r",
   "mimetype": "text/x-r-source",
   "name": "R",
   "pygments_lexer": "r",
   "version": "3.6.0"
  }
 },
 "nbformat": 4,
 "nbformat_minor": 2
}
