{
 "cells": [
  {
   "cell_type": "markdown",
   "metadata": {},
   "source": [
    "# Efficient Frontier and Portfolio Optimization"
   ]
  },
  {
   "cell_type": "markdown",
   "metadata": {},
   "source": [
    "### Portfolio of two assets\n",
    "\n",
    "### $E(R_P)=\\omega_1E(R_1) + \\omega_2E(R_2),$\n",
    "\n",
    "where $E(R_P)$ is the expected return of the portfolio,\n",
    "\n",
    "$\\omega_i$ is the weight of asset $i$,\n",
    "\n",
    "$E(R_i)$ is the expected return of asset $i$.\n",
    "\n",
    "#### Portfolio variance\n",
    "$\\sigma_P^2 = \\omega_1^2\\sigma_1^2 + \\omega_2^2\\sigma_2^2 + 2\\omega_1\\omega_2\\sigma_{1,2}$,\n",
    "\n",
    "$\\sigma^2_P$ is the portfolio variance\n",
    "\n",
    "$\\sigma_{i}^2$ is the variance of assets i\n",
    "\n",
    "$\\sigma_{1,2}$ is the covariance between asset 1 and 2\n",
    "\n",
    "$\\omega_1+\\omega_2=1$\n",
    "\n",
    "Portfolio Volatility or standard deviation is\n",
    "$\\sigma_P = (\\omega_1^2\\sigma_1^2 + \\omega_2^2\\sigma_2^2 + 2\\omega_1\\omega_2\\sigma_{1,2})^\\frac{1}{2}$.\n",
    "\n",
    "### Example\n",
    "\n",
    "Two securities, say X and Y\n",
    "\n",
    "$E(R_X)=5\\%$ and $E(R_Y)=4\\%$,\n",
    "\n",
    "$\\sigma_x^2=9\\%, \\sigma_Y^2=6\\%$\n",
    "\n",
    "$\\sigma_{XY}=3\\%.$\n",
    "\n",
    "The following table presents the portfolio return and volatility for five different portfolio combinations"
   ]
  },
  {
   "cell_type": "markdown",
   "metadata": {},
   "source": [
    "<img src=\"../Images/efficient_example.jpg\">"
   ]
  },
  {
   "cell_type": "markdown",
   "metadata": {},
   "source": [
    "### Portfolio of N assets\n",
    "\n",
    "- Expected portfolio return $ E(R_P) = \\omega^T \\mu ,$\n",
    "where $\\omega^T=\\{\\omega_1,\\omega_2,...,\\omega_N\\}, \\mu = \\{\\mu_1 , \\mu_2, \\cdots ,\\mu_N\\}, \\mu_i=E(R_i), i=1,2, \\cdots ,N$ and\n",
    "\n",
    "\n",
    "\n",
    "- Portfolio volatility as $\\sigma_P=\\sqrt{\\omega^T\\Sigma\\omega},$\n",
    " where $ \\Sigma = \\begin{bmatrix} \n",
    "\\sigma_1^2 & \\cdots & \\sigma_{1N}^2 \\\\\n",
    "\\cdots & \\ddots & \\cdots  \\\\\n",
    "\\sigma_{N1}^2 & \\cdots & \\sigma_N^2\n",
    "\\end{bmatrix}$ is the portfolio covariance matrix.\n",
    "\n"
   ]
  },
  {
   "cell_type": "code",
   "execution_count": 1,
   "metadata": {},
   "outputs": [
    {
     "name": "stderr",
     "output_type": "stream",
     "text": [
      "Registered S3 method overwritten by 'xts':\n",
      "  method     from\n",
      "  as.zoo.xts zoo \n",
      "Registered S3 method overwritten by 'quantmod':\n",
      "  method            from\n",
      "  as.zoo.data.frame zoo \n"
     ]
    }
   ],
   "source": [
    "library(tseries)\n",
    "options(repr.plot.width=6, repr.plot.height=4)"
   ]
  },
  {
   "cell_type": "code",
   "execution_count": 3,
   "metadata": {},
   "outputs": [],
   "source": [
    "Index_Value<-as.matrix(EuStockMarkets)\n",
    "r<-diff(log(Index_Value))*100\n",
    "no.of.portf<-10000"
   ]
  },
  {
   "cell_type": "code",
   "execution_count": 4,
   "metadata": {},
   "outputs": [],
   "source": [
    "set.seed(1)"
   ]
  },
  {
   "cell_type": "code",
   "execution_count": 5,
   "metadata": {},
   "outputs": [],
   "source": [
    "sigma<-mu<-rep(NA,no.of.portf)\n",
    "for(i in 1:no.of.portf){\n",
    "  w <- sample(1:1000,4,replace=T)\n",
    "  w <- w/sum(w) ## weight for i-th portfolio\n",
    "  rp <- r%*%w   ## returns of i-th portfolio\n",
    "  mu[i] <- mean(rp)  ## mean return of i-th portfolio\n",
    "  sigma[i] <- sd(rp) ## volatility of i-th portfolio\n",
    "}"
   ]
  },
  {
   "cell_type": "code",
   "execution_count": 6,
   "metadata": {},
   "outputs": [
    {
     "data": {
      "text/html": [
       "<ol class=list-inline>\n",
       "\t<li>0.0605511597753078</li>\n",
       "\t<li>0.062261788250625</li>\n",
       "\t<li>0.054920114396575</li>\n",
       "\t<li>0.0521941488235401</li>\n",
       "\t<li>0.0530340901196787</li>\n",
       "\t<li>0.0713212176642918</li>\n",
       "</ol>\n"
      ],
      "text/latex": [
       "\\begin{enumerate*}\n",
       "\\item 0.0605511597753078\n",
       "\\item 0.062261788250625\n",
       "\\item 0.054920114396575\n",
       "\\item 0.0521941488235401\n",
       "\\item 0.0530340901196787\n",
       "\\item 0.0713212176642918\n",
       "\\end{enumerate*}\n"
      ],
      "text/markdown": [
       "1. 0.0605511597753078\n",
       "2. 0.062261788250625\n",
       "3. 0.054920114396575\n",
       "4. 0.0521941488235401\n",
       "5. 0.0530340901196787\n",
       "6. 0.0713212176642918\n",
       "\n",
       "\n"
      ],
      "text/plain": [
       "[1] 0.06055116 0.06226179 0.05492011 0.05219415 0.05303409 0.07132122"
      ]
     },
     "metadata": {},
     "output_type": "display_data"
    }
   ],
   "source": [
    "head(mu)"
   ]
  },
  {
   "cell_type": "code",
   "execution_count": 7,
   "metadata": {},
   "outputs": [
    {
     "data": {
      "text/html": [
       "<ol class=list-inline>\n",
       "\t<li>0.800916975484749</li>\n",
       "\t<li>0.846034902732144</li>\n",
       "\t<li>0.824174473750484</li>\n",
       "\t<li>0.837703300189444</li>\n",
       "\t<li>0.832521790879215</li>\n",
       "\t<li>0.869828493828418</li>\n",
       "</ol>\n"
      ],
      "text/latex": [
       "\\begin{enumerate*}\n",
       "\\item 0.800916975484749\n",
       "\\item 0.846034902732144\n",
       "\\item 0.824174473750484\n",
       "\\item 0.837703300189444\n",
       "\\item 0.832521790879215\n",
       "\\item 0.869828493828418\n",
       "\\end{enumerate*}\n"
      ],
      "text/markdown": [
       "1. 0.800916975484749\n",
       "2. 0.846034902732144\n",
       "3. 0.824174473750484\n",
       "4. 0.837703300189444\n",
       "5. 0.832521790879215\n",
       "6. 0.869828493828418\n",
       "\n",
       "\n"
      ],
      "text/plain": [
       "[1] 0.8009170 0.8460349 0.8241745 0.8377033 0.8325218 0.8698285"
      ]
     },
     "metadata": {},
     "output_type": "display_data"
    }
   ],
   "source": [
    "head(sigma)"
   ]
  },
  {
   "cell_type": "code",
   "execution_count": 8,
   "metadata": {},
   "outputs": [
    {
     "data": {
      "image/png": "[encoded data removed]",
      "text/plain": [
       "plot without title"
      ]
     },
     "metadata": {},
     "output_type": "display_data"
    }
   ],
   "source": [
    "plot(sigma,mu,xlab = \"volatility\"\n",
    "     ,ylab=\"expected return\",col=\"grey\")"
   ]
  },
  {
   "cell_type": "code",
   "execution_count": 9,
   "metadata": {},
   "outputs": [
    {
     "data": {
      "image/png": "[encoded data removed]",
      "text/plain": [
       "plot without title"
      ]
     },
     "metadata": {},
     "output_type": "display_data"
    }
   ],
   "source": [
    "plot(sigma,mu,xlab = \"volatility\"\n",
    "     ,ylab=\"expected return\",col=\"grey\")\n",
    "abline(h=0.065,col=\"red\",lwd=2)\n",
    "segments(0.8,0.04,0.8,0.065,col=\"blue\",lwd=2)\n",
    "segments(0.85,0.04,0.85,0.065,col=\"green\",lwd=2)\n",
    "arrows(0.775,0.07,0.8,0.065,col=\"black\",lwd=2)\n",
    "arrows(0.875,0.07,0.85,0.065,col=\"black\",lwd=2)\n",
    "text(0.77,0.071,\"w1\")\n",
    "text(0.88,0.071,\"w2\")\n",
    "points(0.779,0.065,col=\"blue\",lwd=2)\n",
    "text(0.779,0.066,\"w\")\n",
    "points(0.81,0.07,col=\"blue\",lwd=2)\n",
    "text(0.81,0.0715,\"v\")"
   ]
  },
  {
   "cell_type": "code",
   "execution_count": 10,
   "metadata": {},
   "outputs": [
    {
     "data": {
      "image/png": "[encoded data removed]",
      "text/plain": [
       "plot without title"
      ]
     },
     "metadata": {},
     "output_type": "display_data"
    }
   ],
   "source": [
    "# plot(sigma,mu,xlab = \"volatility\"\n",
    "#      ,ylab=\"expected return\",col=\"grey\")\n",
    "# Sigma<-cov(r)\n",
    "#  er<-seq(0.045,0.075,0.001)\n",
    "# frontier<-matrix(NA,nrow=length(er),ncol=2)\n",
    "# for(i in 1:length(er)){\n",
    "#   port_optim<-portfolio.optim(r\n",
    "#                 ,pm=er[i]\n",
    "#                 ,covmat=Sigma)\n",
    "#   frontier[i,]<-c(port_optim$ps,port_optim$pm)\n",
    "# }\n",
    "# lines(frontier,col=\"red\") "
   ]
  },
  {
   "cell_type": "markdown",
   "metadata": {},
   "source": [
    "# Portfolio Optimization"
   ]
  },
  {
   "cell_type": "markdown",
   "metadata": {},
   "source": [
    "Markowitz’s Portfolio Optimization (1952) minimizes the portfolio variance for a given level of expected return, i.e.,\n",
    "$$\\min_{\\omega}\\omega^T\\Sigma\\omega$$\n",
    "such that\n",
    "$$\\omega^T\\mu=\\mu_0,$$\n",
    "where $\\mu_0$ is the expected level of return.\n",
    "\n",
    "Note that you need to provide $\\Sigma$. However, in reality we do not know what is true $\\Sigma$. So we should estimate the $\\Sigma$.\n",
    "\n",
    "The popular estimator for $\\Sigma$ is\n",
    "$$ S=\\frac{1}{n-1}\\sum_{i=1}^n(r_i-\\bar{r})(r_i-\\bar{r})^T$$.\n",
    "\n",
    "You can use other estimators (like Bayes estimator) of $\\Sigma$. This will provide a different frontier. You can do it easily using portfolio.optim in tseries package."
   ]
  },
  {
   "cell_type": "markdown",
   "metadata": {},
   "source": [
    " - Suppose you are considering the global portfolio with **passive investment strategy**, where you want to invest in the ETF of FTSE, DAX, SMI and CAC.\n",
    "\n",
    " - Your annualized expected return is $12.5\\%$.\n",
    "\n",
    " - Consider annualized risk-free rate of return as $3\\%$."
   ]
  },
  {
   "cell_type": "code",
   "execution_count": null,
   "metadata": {},
   "outputs": [],
   "source": [
    "Index_Value<-as.matrix(EuStockMarkets)\n",
    "\n",
    "## log-return in percentage terms\n",
    "r<-diff(log(Index_Value))*100\n",
    "\n",
    "## expected return\n",
    "expected_return <- 12.5/252\n",
    "\n",
    "## portfolio covariance\n",
    "Sigma<-cov(r)"
   ]
  },
  {
   "cell_type": "code",
   "execution_count": null,
   "metadata": {},
   "outputs": [],
   "source": [
    "port_optim<-portfolio.optim(r\n",
    "                ,pm=expected_return\n",
    "                ,covmat=Sigma\n",
    "                ,rf=3/252)"
   ]
  },
  {
   "cell_type": "code",
   "execution_count": null,
   "metadata": {},
   "outputs": [],
   "source": [
    "weight<-port_optim$pw*100\n",
    "names(weight)<-colnames(EuStockMarkets)\n",
    "weight"
   ]
  },
  {
   "cell_type": "markdown",
   "metadata": {},
   "source": [
    "#### expected return"
   ]
  },
  {
   "cell_type": "code",
   "execution_count": null,
   "metadata": {},
   "outputs": [],
   "source": [
    "port_optim$pm"
   ]
  },
  {
   "cell_type": "markdown",
   "metadata": {},
   "source": [
    "#### volatility at optimized weights"
   ]
  },
  {
   "cell_type": "code",
   "execution_count": null,
   "metadata": {},
   "outputs": [],
   "source": [
    "port_optim$ps"
   ]
  },
  {
   "cell_type": "markdown",
   "metadata": {},
   "source": [
    "### Plot the efficient frontier"
   ]
  },
  {
   "cell_type": "code",
   "execution_count": null,
   "metadata": {},
   "outputs": [],
   "source": [
    "er<-seq(0.045,0.075,0.001)\n",
    "frontier<-matrix(NA,nrow=length(er),ncol=2)\n",
    "for(i in 1:length(er)){\n",
    "  port_optim<-portfolio.optim(r\n",
    "                ,pm=er[i]\n",
    "                ,covmat=Sigma\n",
    "                ,rf=3/252)\n",
    "  frontier[i,]<-c(port_optim$ps,port_optim$pm)\n",
    "}\n",
    "plot(frontier,col=\"red\",type = \"l\"\n",
    "     ,xlab=\"volatility\"\n",
    "     ,ylab = \"expected return\")"
   ]
  }
 ],
 "metadata": {
  "kernelspec": {
   "display_name": "R",
   "language": "R",
   "name": "ir"
  },
  "language_info": {
   "codemirror_mode": "r",
   "file_extension": ".r",
   "mimetype": "text/x-r-source",
   "name": "R",
   "pygments_lexer": "r",
   "version": "3.6.0"
  }
 },
 "nbformat": 4,
 "nbformat_minor": 2
}
